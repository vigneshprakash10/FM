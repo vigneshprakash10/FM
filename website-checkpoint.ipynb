{
 "cells": [
  {
   "cell_type": "code",
   "execution_count": 1,
   "metadata": {
    "id": "UR9MJZtv88ii"
   },
   "outputs": [],
   "source": [
    "import pandas as pd\n",
    "import numpy as np\n",
    "from sklearn.model_selection import cross_val_score, train_test_split\n",
    "from sklearn.preprocessing import StandardScaler\n",
    "from sklearn.impute import SimpleImputer\n",
    "from sklearn.metrics import accuracy_score, classification_report"
   ]
  },
  {
   "cell_type": "code",
   "execution_count": 2,
   "metadata": {
    "id": "o_6XV4yZ9KUN"
   },
   "outputs": [],
   "source": [
    "data = pd.read_csv(\"heart disease classification dataset.csv\")"
   ]
  },
  {
   "cell_type": "code",
   "execution_count": 3,
   "metadata": {
    "colab": {
     "base_uri": "https://localhost:8080/",
     "height": 423
    },
    "id": "-iw0FuzI9KW2",
    "outputId": "cbb1cdeb-b9d2-4219-a25b-dcc56a23b073"
   },
   "outputs": [
    {
     "data": {
      "text/html": [
       "<div>\n",
       "<style scoped>\n",
       "    .dataframe tbody tr th:only-of-type {\n",
       "        vertical-align: middle;\n",
       "    }\n",
       "\n",
       "    .dataframe tbody tr th {\n",
       "        vertical-align: top;\n",
       "    }\n",
       "\n",
       "    .dataframe thead th {\n",
       "        text-align: right;\n",
       "    }\n",
       "</style>\n",
       "<table border=\"1\" class=\"dataframe\">\n",
       "  <thead>\n",
       "    <tr style=\"text-align: right;\">\n",
       "      <th></th>\n",
       "      <th>Unnamed: 0</th>\n",
       "      <th>age</th>\n",
       "      <th>sex</th>\n",
       "      <th>cp</th>\n",
       "      <th>trestbps</th>\n",
       "      <th>chol</th>\n",
       "      <th>fbs</th>\n",
       "      <th>restecg</th>\n",
       "      <th>thalach</th>\n",
       "      <th>exang</th>\n",
       "      <th>oldpeak</th>\n",
       "      <th>slope</th>\n",
       "      <th>ca</th>\n",
       "      <th>thal</th>\n",
       "      <th>target</th>\n",
       "    </tr>\n",
       "  </thead>\n",
       "  <tbody>\n",
       "    <tr>\n",
       "      <th>0</th>\n",
       "      <td>0</td>\n",
       "      <td>63</td>\n",
       "      <td>male</td>\n",
       "      <td>3</td>\n",
       "      <td>145.0</td>\n",
       "      <td>233.0</td>\n",
       "      <td>1</td>\n",
       "      <td>0</td>\n",
       "      <td>150.0</td>\n",
       "      <td>0</td>\n",
       "      <td>2.3</td>\n",
       "      <td>0</td>\n",
       "      <td>0</td>\n",
       "      <td>1</td>\n",
       "      <td>yes</td>\n",
       "    </tr>\n",
       "    <tr>\n",
       "      <th>1</th>\n",
       "      <td>1</td>\n",
       "      <td>37</td>\n",
       "      <td>male</td>\n",
       "      <td>2</td>\n",
       "      <td>130.0</td>\n",
       "      <td>250.0</td>\n",
       "      <td>0</td>\n",
       "      <td>1</td>\n",
       "      <td>187.0</td>\n",
       "      <td>0</td>\n",
       "      <td>3.5</td>\n",
       "      <td>0</td>\n",
       "      <td>0</td>\n",
       "      <td>2</td>\n",
       "      <td>yes</td>\n",
       "    </tr>\n",
       "    <tr>\n",
       "      <th>2</th>\n",
       "      <td>2</td>\n",
       "      <td>41</td>\n",
       "      <td>female</td>\n",
       "      <td>1</td>\n",
       "      <td>130.0</td>\n",
       "      <td>204.0</td>\n",
       "      <td>0</td>\n",
       "      <td>0</td>\n",
       "      <td>172.0</td>\n",
       "      <td>0</td>\n",
       "      <td>1.4</td>\n",
       "      <td>2</td>\n",
       "      <td>0</td>\n",
       "      <td>2</td>\n",
       "      <td>yes</td>\n",
       "    </tr>\n",
       "    <tr>\n",
       "      <th>3</th>\n",
       "      <td>3</td>\n",
       "      <td>56</td>\n",
       "      <td>male</td>\n",
       "      <td>1</td>\n",
       "      <td>120.0</td>\n",
       "      <td>236.0</td>\n",
       "      <td>0</td>\n",
       "      <td>1</td>\n",
       "      <td>178.0</td>\n",
       "      <td>0</td>\n",
       "      <td>0.8</td>\n",
       "      <td>2</td>\n",
       "      <td>0</td>\n",
       "      <td>2</td>\n",
       "      <td>yes</td>\n",
       "    </tr>\n",
       "    <tr>\n",
       "      <th>4</th>\n",
       "      <td>4</td>\n",
       "      <td>57</td>\n",
       "      <td>female</td>\n",
       "      <td>0</td>\n",
       "      <td>NaN</td>\n",
       "      <td>354.0</td>\n",
       "      <td>0</td>\n",
       "      <td>1</td>\n",
       "      <td>163.0</td>\n",
       "      <td>1</td>\n",
       "      <td>0.6</td>\n",
       "      <td>2</td>\n",
       "      <td>0</td>\n",
       "      <td>2</td>\n",
       "      <td>yes</td>\n",
       "    </tr>\n",
       "    <tr>\n",
       "      <th>...</th>\n",
       "      <td>...</td>\n",
       "      <td>...</td>\n",
       "      <td>...</td>\n",
       "      <td>...</td>\n",
       "      <td>...</td>\n",
       "      <td>...</td>\n",
       "      <td>...</td>\n",
       "      <td>...</td>\n",
       "      <td>...</td>\n",
       "      <td>...</td>\n",
       "      <td>...</td>\n",
       "      <td>...</td>\n",
       "      <td>...</td>\n",
       "      <td>...</td>\n",
       "      <td>...</td>\n",
       "    </tr>\n",
       "    <tr>\n",
       "      <th>298</th>\n",
       "      <td>298</td>\n",
       "      <td>57</td>\n",
       "      <td>female</td>\n",
       "      <td>0</td>\n",
       "      <td>140.0</td>\n",
       "      <td>241.0</td>\n",
       "      <td>0</td>\n",
       "      <td>1</td>\n",
       "      <td>123.0</td>\n",
       "      <td>1</td>\n",
       "      <td>0.2</td>\n",
       "      <td>1</td>\n",
       "      <td>0</td>\n",
       "      <td>3</td>\n",
       "      <td>no</td>\n",
       "    </tr>\n",
       "    <tr>\n",
       "      <th>299</th>\n",
       "      <td>299</td>\n",
       "      <td>45</td>\n",
       "      <td>male</td>\n",
       "      <td>3</td>\n",
       "      <td>110.0</td>\n",
       "      <td>264.0</td>\n",
       "      <td>0</td>\n",
       "      <td>1</td>\n",
       "      <td>132.0</td>\n",
       "      <td>0</td>\n",
       "      <td>1.2</td>\n",
       "      <td>1</td>\n",
       "      <td>0</td>\n",
       "      <td>3</td>\n",
       "      <td>no</td>\n",
       "    </tr>\n",
       "    <tr>\n",
       "      <th>300</th>\n",
       "      <td>300</td>\n",
       "      <td>68</td>\n",
       "      <td>male</td>\n",
       "      <td>0</td>\n",
       "      <td>144.0</td>\n",
       "      <td>193.0</td>\n",
       "      <td>1</td>\n",
       "      <td>1</td>\n",
       "      <td>141.0</td>\n",
       "      <td>0</td>\n",
       "      <td>3.4</td>\n",
       "      <td>1</td>\n",
       "      <td>2</td>\n",
       "      <td>3</td>\n",
       "      <td>no</td>\n",
       "    </tr>\n",
       "    <tr>\n",
       "      <th>301</th>\n",
       "      <td>301</td>\n",
       "      <td>57</td>\n",
       "      <td>male</td>\n",
       "      <td>0</td>\n",
       "      <td>NaN</td>\n",
       "      <td>131.0</td>\n",
       "      <td>0</td>\n",
       "      <td>1</td>\n",
       "      <td>115.0</td>\n",
       "      <td>1</td>\n",
       "      <td>1.2</td>\n",
       "      <td>1</td>\n",
       "      <td>1</td>\n",
       "      <td>3</td>\n",
       "      <td>no</td>\n",
       "    </tr>\n",
       "    <tr>\n",
       "      <th>302</th>\n",
       "      <td>302</td>\n",
       "      <td>57</td>\n",
       "      <td>female</td>\n",
       "      <td>1</td>\n",
       "      <td>130.0</td>\n",
       "      <td>236.0</td>\n",
       "      <td>0</td>\n",
       "      <td>0</td>\n",
       "      <td>174.0</td>\n",
       "      <td>0</td>\n",
       "      <td>0.0</td>\n",
       "      <td>1</td>\n",
       "      <td>1</td>\n",
       "      <td>2</td>\n",
       "      <td>no</td>\n",
       "    </tr>\n",
       "  </tbody>\n",
       "</table>\n",
       "<p>303 rows × 15 columns</p>\n",
       "</div>"
      ],
      "text/plain": [
       "     Unnamed: 0  age     sex  cp  trestbps   chol  fbs  restecg  thalach  \\\n",
       "0             0   63    male   3     145.0  233.0    1        0    150.0   \n",
       "1             1   37    male   2     130.0  250.0    0        1    187.0   \n",
       "2             2   41  female   1     130.0  204.0    0        0    172.0   \n",
       "3             3   56    male   1     120.0  236.0    0        1    178.0   \n",
       "4             4   57  female   0       NaN  354.0    0        1    163.0   \n",
       "..          ...  ...     ...  ..       ...    ...  ...      ...      ...   \n",
       "298         298   57  female   0     140.0  241.0    0        1    123.0   \n",
       "299         299   45    male   3     110.0  264.0    0        1    132.0   \n",
       "300         300   68    male   0     144.0  193.0    1        1    141.0   \n",
       "301         301   57    male   0       NaN  131.0    0        1    115.0   \n",
       "302         302   57  female   1     130.0  236.0    0        0    174.0   \n",
       "\n",
       "     exang  oldpeak  slope  ca  thal target  \n",
       "0        0      2.3      0   0     1    yes  \n",
       "1        0      3.5      0   0     2    yes  \n",
       "2        0      1.4      2   0     2    yes  \n",
       "3        0      0.8      2   0     2    yes  \n",
       "4        1      0.6      2   0     2    yes  \n",
       "..     ...      ...    ...  ..   ...    ...  \n",
       "298      1      0.2      1   0     3     no  \n",
       "299      0      1.2      1   0     3     no  \n",
       "300      0      3.4      1   2     3     no  \n",
       "301      1      1.2      1   1     3     no  \n",
       "302      0      0.0      1   1     2     no  \n",
       "\n",
       "[303 rows x 15 columns]"
      ]
     },
     "execution_count": 3,
     "metadata": {},
     "output_type": "execute_result"
    }
   ],
   "source": [
    "data"
   ]
  },
  {
   "cell_type": "code",
   "execution_count": 4,
   "metadata": {
    "id": "qbSx-Qck9KZJ"
   },
   "outputs": [],
   "source": [
    "numeric_columns = data.select_dtypes(include='number')\n",
    "data[numeric_columns.columns] = data[numeric_columns.columns].fillna(numeric_columns.mean())"
   ]
  },
  {
   "cell_type": "code",
   "execution_count": 5,
   "metadata": {
    "colab": {
     "base_uri": "https://localhost:8080/"
    },
    "id": "IhM4fHH-9KiJ",
    "outputId": "ab728e22-2a2a-4feb-a76e-f0b4e6547763"
   },
   "outputs": [
    {
     "name": "stdout",
     "output_type": "stream",
     "text": [
      "Series([], dtype: int64)\n"
     ]
    }
   ],
   "source": [
    "# Check for missing values in all columns\n",
    "missing_values = data.isnull().sum()\n",
    "\n",
    "# Display columns with missing values, if any\n",
    "print(missing_values[missing_values > 0])"
   ]
  },
  {
   "cell_type": "code",
   "execution_count": 6,
   "metadata": {
    "id": "llIQa2O29Kky"
   },
   "outputs": [
    {
     "name": "stdout",
     "output_type": "stream",
     "text": [
      "   Unnamed: 0  age  sex  cp    trestbps   chol  fbs  restecg  thalach  exang  \\\n",
      "0           0   63    1   3  145.000000  233.0    1        0    150.0      0   \n",
      "1           1   37    1   2  130.000000  250.0    0        1    187.0      0   \n",
      "2           2   41    0   1  130.000000  204.0    0        0    172.0      0   \n",
      "3           3   56    1   1  120.000000  236.0    0        1    178.0      0   \n",
      "4           4   57    0   0  131.712375  354.0    0        1    163.0      1   \n",
      "\n",
      "   oldpeak  slope  ca  thal  target  \n",
      "0      2.3      0   0     1       1  \n",
      "1      3.5      0   0     2       1  \n",
      "2      1.4      2   0     2       1  \n",
      "3      0.8      2   0     2       1  \n",
      "4      0.6      2   0     2       1  \n"
     ]
    }
   ],
   "source": [
    "# Convert 'sex' column to numerical format (0 for female, 1 for male)\n",
    "data['sex'] = data['sex'].map({'female': 0, 'male': 1})\n",
    "\n",
    "# Convert 'target' column to numerical format (0 for no heart disease, 1 for heart disease)\n",
    "data['target'] = data['target'].map({'no': 0, 'yes': 1})\n",
    "\n",
    "# Display the first few rows of the dataset after transformation\n",
    "print(data.head())"
   ]
  },
  {
   "cell_type": "code",
   "execution_count": 7,
   "metadata": {
    "colab": {
     "base_uri": "https://localhost:8080/"
    },
    "id": "24Og8CYp9gPv",
    "outputId": "f385045f-50de-42bc-d8f0-61e36df268aa"
   },
   "outputs": [
    {
     "name": "stdout",
     "output_type": "stream",
     "text": [
      "Index(['age', 'sex', 'cp', 'trestbps', 'chol', 'fbs', 'restecg', 'thalach',\n",
      "       'exang', 'oldpeak', 'slope', 'ca', 'thal', 'target'],\n",
      "      dtype='object')\n"
     ]
    }
   ],
   "source": [
    "# Remove the 'Unnamed: 0' column\n",
    "data.drop('Unnamed: 0', axis=1, inplace=True)\n",
    "\n",
    "# Display the columns after removal\n",
    "print(data.columns)"
   ]
  },
  {
   "cell_type": "code",
   "execution_count": 8,
   "metadata": {
    "colab": {
     "base_uri": "https://localhost:8080/"
    },
    "id": "5Z7M2uvG9gSW",
    "outputId": "d4997a36-aae7-465b-f524-61f69fc2cac7"
   },
   "outputs": [
    {
     "name": "stdout",
     "output_type": "stream",
     "text": [
      "        age  sex        cp  trestbps      chol  fbs  restecg   thalach  exang  \\\n",
      "0  0.708333  1.0  1.000000  0.481132  0.244292  1.0      0.0  0.603053    0.0   \n",
      "1  0.166667  1.0  0.666667  0.339623  0.283105  0.0      0.5  0.885496    0.0   \n",
      "2  0.250000  0.0  0.333333  0.339623  0.178082  0.0      0.0  0.770992    0.0   \n",
      "3  0.562500  1.0  0.333333  0.245283  0.251142  0.0      0.5  0.816794    0.0   \n",
      "4  0.583333  0.0  0.000000  0.355777  0.520548  0.0      0.5  0.702290    1.0   \n",
      "\n",
      "    oldpeak  slope   ca      thal  target  \n",
      "0  0.370968    0.0  0.0  0.333333     1.0  \n",
      "1  0.564516    0.0  0.0  0.666667     1.0  \n",
      "2  0.225806    1.0  0.0  0.666667     1.0  \n",
      "3  0.129032    1.0  0.0  0.666667     1.0  \n",
      "4  0.096774    1.0  0.0  0.666667     1.0  \n"
     ]
    }
   ],
   "source": [
    "from sklearn.preprocessing import MinMaxScaler\n",
    "scaler = MinMaxScaler()\n",
    "\n",
    "# Normalize the data\n",
    "data_normalized = scaler.fit_transform(data)\n",
    "data_normalized = pd.DataFrame(data_normalized, columns=data.columns)\n",
    "print(data_normalized.head())"
   ]
  },
  {
   "cell_type": "code",
   "execution_count": 9,
   "metadata": {},
   "outputs": [
    {
     "name": "stdout",
     "output_type": "stream",
     "text": [
      "Requirement already satisfied: scikit-learn in c:\\users\\vignesh\\anaconda3\\lib\\site-packages (1.4.2)\n",
      "Requirement already satisfied: imbalanced-learn in c:\\users\\vignesh\\anaconda3\\lib\\site-packages (0.12.2)\n",
      "Requirement already satisfied: threadpoolctl>=2.0.0 in c:\\users\\vignesh\\anaconda3\\lib\\site-packages (from scikit-learn) (2.2.0)\n",
      "Requirement already satisfied: scipy>=1.6.0 in c:\\users\\vignesh\\anaconda3\\lib\\site-packages (from scikit-learn) (1.9.1)\n",
      "Requirement already satisfied: joblib>=1.2.0 in c:\\users\\vignesh\\anaconda3\\lib\\site-packages (from scikit-learn) (1.4.0)\n",
      "Requirement already satisfied: numpy>=1.19.5 in c:\\users\\vignesh\\anaconda3\\lib\\site-packages (from scikit-learn) (1.21.5)\n",
      "Note: you may need to restart the kernel to use updated packages.\n"
     ]
    }
   ],
   "source": [
    "\n",
    "pip install --upgrade scikit-learn imbalanced-learn\n"
   ]
  },
  {
   "cell_type": "code",
   "execution_count": 10,
   "metadata": {
    "colab": {
     "base_uri": "https://localhost:8080/"
    },
    "id": "7V_ZFDXi9qOz",
    "outputId": "3a9b97cb-abc0-4c8c-a213-a5e550df182c"
   },
   "outputs": [
    {
     "name": "stdout",
     "output_type": "stream",
     "text": [
      "Logistic Regression Classifier Accuracy: 0.8360655737704918\n",
      "Classification Report for Logistic Regression Classifier:\n",
      "              precision    recall  f1-score   support\n",
      "\n",
      "           0       0.81      0.86      0.83        29\n",
      "           1       0.87      0.81      0.84        32\n",
      "\n",
      "    accuracy                           0.84        61\n",
      "   macro avg       0.84      0.84      0.84        61\n",
      "weighted avg       0.84      0.84      0.84        61\n",
      "\n"
     ]
    }
   ],
   "source": [
    "import pandas as pd\n",
    "from sklearn.model_selection import train_test_split\n",
    "from sklearn.metrics import accuracy_score, classification_report\n",
    "from sklearn.preprocessing import StandardScaler\n",
    "from sklearn.linear_model import LogisticRegression\n",
    "import warnings\n",
    "warnings.filterwarnings(\"ignore\")\n",
    "\n",
    "# Assuming 'data' is your dataset\n",
    "# Split the data into features (X) and target variable (y)\n",
    "selected_features = ['age', 'sex', 'cp', 'trestbps', 'chol', 'fbs', 'restecg', 'thalach', 'exang', 'oldpeak', 'slope']\n",
    "X = data[selected_features]\n",
    "y = data['target']\n",
    "\n",
    "# Split the data into training and testing sets\n",
    "X_train, X_test, y_train, y_test = train_test_split(X, y, test_size=0.2, random_state=42)\n",
    "\n",
    "# Scale the features\n",
    "scaler = StandardScaler()\n",
    "X_train_scaled = scaler.fit_transform(X_train)\n",
    "X_test_scaled = scaler.transform(X_test)\n",
    "\n",
    "# Initialize logistic regression classifier\n",
    "logistic_classifier = LogisticRegression()\n",
    "\n",
    "# Fit the classifier on the training data\n",
    "logistic_classifier.fit(X_train_scaled, y_train)\n",
    "\n",
    "# Make predictions on the scaled testing data\n",
    "y_pred = logistic_classifier.predict(X_test_scaled)\n",
    "\n",
    "# Calculate accuracy\n",
    "accuracy = accuracy_score(y_test, y_pred)\n",
    "print(\"Logistic Regression Classifier Accuracy:\", accuracy)\n",
    "\n",
    "# Classification report\n",
    "print(\"Classification Report for Logistic Regression Classifier:\")\n",
    "print(classification_report(y_test, y_pred))\n"
   ]
  },
  {
   "cell_type": "code",
   "execution_count": 11,
   "metadata": {
    "id": "w8Qi1RyH9qZk"
   },
   "outputs": [
    {
     "name": "stdout",
     "output_type": "stream",
     "text": [
      "Enter age: 52\n",
      "Enter sex (0 for female, 1 for male): 1\n",
      "Enter chest pain type (0-3): 0\n",
      "Enter resting blood pressure: 2\n",
      "Enter serum cholestoral in mg/dl: 122\n",
      "Enter fasting blood sugar > 120 mg/dl (1 for yes, 0 for no): 1\n",
      "Enter resting electrocardiographic results (0-2): 0\n",
      "Enter maximum heart rate achieved: 255\n",
      "Enter exercise induced angina (1 for yes, 0 for no): 1\n",
      "Enter ST depression induced by exercise relative to rest: 1\n",
      "Enter the slope of the peak exercise ST segment (0-2): 2\n",
      "The predicted outcome is YES.\n"
     ]
    }
   ],
   "source": [
    "# Prompt the user for input values for each feature\n",
    "input_age = float(input(\"Enter age: \"))\n",
    "input_sex = int(input(\"Enter sex (0 for female, 1 for male): \"))\n",
    "input_cp = int(input(\"Enter chest pain type (0-3): \"))\n",
    "input_trestbps = float(input(\"Enter resting blood pressure: \"))\n",
    "input_chol = float(input(\"Enter serum cholestoral in mg/dl: \"))\n",
    "input_fbs = int(input(\"Enter fasting blood sugar > 120 mg/dl (1 for yes, 0 for no): \"))\n",
    "input_restecg = int(input(\"Enter resting electrocardiographic results (0-2): \"))\n",
    "input_thalach = float(input(\"Enter maximum heart rate achieved: \"))\n",
    "input_exang = int(input(\"Enter exercise induced angina (1 for yes, 0 for no): \"))\n",
    "input_oldpeak = float(input(\"Enter ST depression induced by exercise relative to rest: \"))\n",
    "input_slope = int(input(\"Enter the slope of the peak exercise ST segment (0-2): \"))\n",
    "\n",
    "# Create a DataFrame with the input data\n",
    "input_data = pd.DataFrame({\n",
    "    'age': [input_age],\n",
    "    'sex': [input_sex],\n",
    "    'cp': [input_cp],\n",
    "    'trestbps': [input_trestbps],\n",
    "    'chol': [input_chol],\n",
    "    'fbs': [input_fbs],\n",
    "    'restecg': [input_restecg],\n",
    "    'thalach': [input_thalach],\n",
    "    'exang': [input_exang],\n",
    "    'oldpeak': [input_oldpeak],\n",
    "    'slope': [input_slope]\n",
    "})\n",
    "\n",
    "# Scale the input data using the same scaler as the training data\n",
    "input_data_scaled = scaler.transform(input_data)\n",
    "\n",
    "# Make predictions using the trained Logistic Regression classifier\n",
    "prediction = logistic_classifier.predict(input_data_scaled)\n",
    "\n",
    "# Output the prediction result\n",
    "if prediction[0] == 1:\n",
    "    print(\"The predicted outcome is YES.\")\n",
    "else:\n",
    "    print(\"The predicted outcome is NO.\")\n"
   ]
  },
  {
   "cell_type": "code",
   "execution_count": null,
   "metadata": {},
   "outputs": [],
   "source": []
  }
 ],
 "metadata": {
  "colab": {
   "provenance": []
  },
  "kernelspec": {
   "display_name": "Python 3 (ipykernel)",
   "language": "python",
   "name": "python3"
  },
  "language_info": {
   "codemirror_mode": {
    "name": "ipython",
    "version": 3
   },
   "file_extension": ".py",
   "mimetype": "text/x-python",
   "name": "python",
   "nbconvert_exporter": "python",
   "pygments_lexer": "ipython3",
   "version": "3.9.13"
  }
 },
 "nbformat": 4,
 "nbformat_minor": 1
}
